{
  "nbformat": 4,
  "nbformat_minor": 0,
  "metadata": {
    "colab": {
      "provenance": [],
      "mount_file_id": "https://github.com/ilya-lykov/google_colab_labs/blob/main/1_lab/1_lab.ipynb",
      "authorship_tag": "ABX9TyNQOAIA/81v9g/E42LpoJVl",
      "include_colab_link": true
    },
    "kernelspec": {
      "name": "python3",
      "display_name": "Python 3"
    },
    "language_info": {
      "name": "python"
    }
  },
  "cells": [
    {
      "cell_type": "markdown",
      "metadata": {
        "id": "view-in-github",
        "colab_type": "text"
      },
      "source": [
        "<a href=\"https://colab.research.google.com/github/ilya-lykov/google_colab_labs/blob/main/1_lab/1_lab.ipynb\" target=\"_parent\"><img src=\"https://colab.research.google.com/assets/colab-badge.svg\" alt=\"Open In Colab\"/></a>"
      ]
    },
    {
      "cell_type": "code",
      "execution_count": null,
      "metadata": {
        "colab": {
          "base_uri": "https://localhost:8080/"
        },
        "id": "VkTIMeqNIa4M",
        "outputId": "efc2df2a-2ce9-499f-8f4d-f1a3ab6bad60"
      },
      "outputs": [
        {
          "output_type": "stream",
          "name": "stdout",
          "text": [
            "Collecting pyspark\n",
            "  Downloading pyspark-3.5.3.tar.gz (317.3 MB)\n",
            "\u001b[2K     \u001b[90m━━━━━━━━━━━━━━━━━━━━━━━━━━━━━━━━━━━━━━━━\u001b[0m \u001b[32m317.3/317.3 MB\u001b[0m \u001b[31m3.8 MB/s\u001b[0m eta \u001b[36m0:00:00\u001b[0m\n",
            "\u001b[?25h  Preparing metadata (setup.py) ... \u001b[?25l\u001b[?25hdone\n",
            "Requirement already satisfied: py4j==0.10.9.7 in /usr/local/lib/python3.10/dist-packages (from pyspark) (0.10.9.7)\n",
            "Building wheels for collected packages: pyspark\n",
            "  Building wheel for pyspark (setup.py) ... \u001b[?25l\u001b[?25hdone\n",
            "  Created wheel for pyspark: filename=pyspark-3.5.3-py2.py3-none-any.whl size=317840625 sha256=b131931bf5685c3f38d30934a497053ffd8ba562091ffe50041853eb43a92938\n",
            "  Stored in directory: /root/.cache/pip/wheels/1b/3a/92/28b93e2fbfdbb07509ca4d6f50c5e407f48dce4ddbda69a4ab\n",
            "Successfully built pyspark\n",
            "Installing collected packages: pyspark\n",
            "Successfully installed pyspark-3.5.3\n"
          ]
        }
      ],
      "source": [
        "!pip install pyspark ##Устаналвиваем pyspark"
      ]
    },
    {
      "cell_type": "code",
      "source": [
        "from pyspark.sql import SparkSession ##Необходимые импорты\n",
        "import pyspark.sql.functions as F"
      ],
      "metadata": {
        "id": "fvOrhPymJ_ni"
      },
      "execution_count": null,
      "outputs": []
    },
    {
      "cell_type": "code",
      "source": [
        "spark = (SparkSession.builder.appName(\"Test\").getOrCreate()) ##Создаем инстанс спарка"
      ],
      "metadata": {
        "id": "Z75xDNHVKETy"
      },
      "execution_count": null,
      "outputs": []
    },
    {
      "cell_type": "code",
      "source": [
        "acc = spark.read.csv(\"/content/drive/MyDrive/University/data/2015/DfTRoadSafety_Accidents_2015.csv\", header=True, inferSchema=True)\n",
        "##Прочитал файл из своего Google Хранилища\n",
        "acc1 = acc.select(\"Accident_Index\",\"Date\", \"Number_of_Vehicles\", \"Weather_Conditions\")\n",
        "##Сделал выборку по столбцам\n",
        "acc1.show()"
      ],
      "metadata": {
        "colab": {
          "base_uri": "https://localhost:8080/"
        },
        "id": "UDDwZmxcKN7b",
        "outputId": "fc582e52-4032-414f-fd15-28392029832b"
      },
      "execution_count": null,
      "outputs": [
        {
          "output_type": "stream",
          "name": "stdout",
          "text": [
            "+--------------+----------+------------------+------------------+\n",
            "|Accident_Index|      Date|Number_of_Vehicles|Weather_Conditions|\n",
            "+--------------+----------+------------------+------------------+\n",
            "| 201501BS70001|12/01/2015|                 1|                 1|\n",
            "| 201501BS70002|12/01/2015|                 1|                 1|\n",
            "| 201501BS70004|12/01/2015|                 1|                 2|\n",
            "| 201501BS70005|13/01/2015|                 1|                 1|\n",
            "| 201501BS70008|09/01/2015|                 2|                 2|\n",
            "| 201501BS70009|15/01/2015|                 2|                 1|\n",
            "| 201501BS70010|15/01/2015|                 2|                 8|\n",
            "| 201501BS70011|18/01/2015|                 2|                 1|\n",
            "| 201501BS70012|16/01/2015|                 2|                 1|\n",
            "| 201501BS70013|20/01/2015|                 2|                 8|\n",
            "| 201501BS70014|23/01/2015|                 2|                 2|\n",
            "| 201501BS70015|22/01/2015|                 1|                 1|\n",
            "| 201501BS70016|21/01/2015|                 2|                 1|\n",
            "| 201501BS70017|21/01/2015|                 1|                 1|\n",
            "| 201501BS70018|23/01/2015|                 1|                 1|\n",
            "| 201501BS70019|23/01/2015|                 1|                 1|\n",
            "| 201501BS70020|23/01/2015|                 2|                 1|\n",
            "| 201501BS70022|25/01/2015|                 2|                 1|\n",
            "| 201501BS70023|24/01/2015|                 1|                 1|\n",
            "| 201501BS70024|23/01/2015|                 2|                 1|\n",
            "+--------------+----------+------------------+------------------+\n",
            "only showing top 20 rows\n",
            "\n"
          ]
        }
      ]
    },
    {
      "cell_type": "code",
      "source": [
        "# Среднее количество транспортных средств для каждого типа погодных условий\n",
        "average_vehicles = (\n",
        "    acc1.groupBy(\"Weather_Conditions\")\n",
        "    .agg(F.avg(\"Number_of_Vehicles\").alias(\"average_vehicles\"))\n",
        ")\n",
        "\n",
        "# Вывод результата\n",
        "average_vehicles.show()"
      ],
      "metadata": {
        "colab": {
          "base_uri": "https://localhost:8080/"
        },
        "id": "nY5Pce_NKZ6o",
        "outputId": "9e016f62-bbdb-42e6-ae39-7055f241d54a"
      },
      "execution_count": null,
      "outputs": [
        {
          "output_type": "stream",
          "name": "stdout",
          "text": [
            "+------------------+------------------+\n",
            "|Weather_Conditions|  average_vehicles|\n",
            "+------------------+------------------+\n",
            "|                 1|1.8543801768917592|\n",
            "|                 6|1.7485714285714287|\n",
            "|                 3|1.7037037037037037|\n",
            "|                 5|1.7269653423499578|\n",
            "|                 9| 1.740080971659919|\n",
            "|                 4|1.7851380042462845|\n",
            "|                 8|1.7719033232628398|\n",
            "|                 7|1.8338368580060422|\n",
            "|                 2|1.7997943973271653|\n",
            "+------------------+------------------+\n",
            "\n"
          ]
        }
      ]
    },
    {
      "cell_type": "code",
      "source": [
        "# Фильтрация данных по условиям\n",
        "filtered_data = acc1.filter(\n",
        "    (F.col(\"Weather_Conditions\") == \"3\") &\n",
        "    (F.col(\"Number_of_Vehicles\") > 2)\n",
        ")\n",
        "\n",
        "# Показать результат\n",
        "filtered_data.show()"
      ],
      "metadata": {
        "colab": {
          "base_uri": "https://localhost:8080/"
        },
        "id": "cqc_M0jAL9bM",
        "outputId": "a8fcfda1-be1a-4a69-fd85-c9989c9fb04e"
      },
      "execution_count": null,
      "outputs": [
        {
          "output_type": "stream",
          "name": "stdout",
          "text": [
            "+--------------+----------+------------------+------------------+\n",
            "|Accident_Index|      Date|Number_of_Vehicles|Weather_Conditions|\n",
            "+--------------+----------+------------------+------------------+\n",
            "| 2015030000076|13/01/2015|                 3|                 3|\n",
            "| 2015030000133|14/01/2015|                 3|                 3|\n",
            "| 2015030000665|02/03/2015|                 3|                 3|\n",
            "| 201504ED15021|14/01/2015|                 3|                 3|\n",
            "| 201504ED15023|17/01/2015|                 4|                 3|\n",
            "| 201504EG15009|28/01/2015|                 3|                 3|\n",
            "| 201504EG15011|29/01/2015|                 3|                 3|\n",
            "| 201504SA15022|13/01/2015|                 3|                 3|\n",
            "| 2015051500172|17/01/2015|                 4|                 3|\n",
            "| 2015051502780|07/11/2015|                 4|                 3|\n",
            "| 201506K096301|17/01/2015|                 3|                 3|\n",
            "| 201506K096323|17/01/2015|                 3|                 3|\n",
            "| 201506P096920|28/01/2015|                 4|                 3|\n",
            "| 2015100785515|12/12/2015|                 3|                 3|\n",
            "| 20151321G0539|16/01/2015|                 5|                 3|\n",
            "| 20151321S1578|28/01/2015|                 3|                 3|\n",
            "| 201514B005515|17/01/2015|                 4|                 3|\n",
            "| 2015160D07311|15/12/2015|                 3|                 3|\n",
            "| 2015200035109|20/11/2015|                 3|                 3|\n",
            "| 2015215000676|29/01/2015|                 3|                 3|\n",
            "+--------------+----------+------------------+------------------+\n",
            "only showing top 20 rows\n",
            "\n"
          ]
        }
      ]
    },
    {
      "cell_type": "code",
      "source": [
        "# Преобразуем Date из строки в формат даты\n",
        "acc1 = acc1.withColumn(\"      Date\", F.to_date(F.col(\"Date\"), \"dd/MM/yyyy\"))\n",
        "#Делаем агрегацию по Дате\n",
        "agg_by_date = (acc1\n",
        "               .groupBy(F.col(\"Accident_Index\"), F.col(\"Number_of_Vehicles\"), F.col(\"Weather_Conditions\"))\n",
        "               .agg(F.min(F.col(\"Date\").alias(\"min_date\")))\n",
        "               .orderBy(F.col(\"min(Date AS min_date)\").asc())\n",
        "               )\n",
        "\n",
        "agg_by_date.show()\n"
      ],
      "metadata": {
        "colab": {
          "base_uri": "https://localhost:8080/"
        },
        "id": "hyiFGsUQMus0",
        "outputId": "107e7ac7-e09e-4df6-a28a-0fdbfc497d76"
      },
      "execution_count": null,
      "outputs": [
        {
          "output_type": "stream",
          "name": "stdout",
          "text": [
            "+--------------+------------------+------------------+---------------------+\n",
            "|Accident_Index|Number_of_Vehicles|Weather_Conditions|min(Date AS min_date)|\n",
            "+--------------+------------------+------------------+---------------------+\n",
            "| 201501YR90315|                 2|                 1|           01/01/2015|\n",
            "| 201501QK50060|                 4|                 1|           01/01/2015|\n",
            "| 2015170H10015|                 2|                 4|           01/01/2015|\n",
            "| 2015132110547|                 1|                 4|           01/01/2015|\n",
            "| 201501ZT80005|                 2|                 2|           01/01/2015|\n",
            "| 201501SX20044|                 2|                 2|           01/01/2015|\n",
            "| 201501EO40016|                 1|                 1|           01/01/2015|\n",
            "| 201501MM70020|                 1|                 1|           01/01/2015|\n",
            "| 201504ED15004|                 2|                 2|           01/01/2015|\n",
            "| 201501YR90704|                 2|                 9|           01/01/2015|\n",
            "| 201501GD10020|                 2|                 1|           01/01/2015|\n",
            "| 201501KF60146|                 1|                 1|           01/01/2015|\n",
            "| 201504EF15002|                 2|                 5|           01/01/2015|\n",
            "| 201501ZD30148|                 1|                 2|           01/01/2015|\n",
            "| 201501HT20022|                 2|                 1|           01/01/2015|\n",
            "| 201501LX50026|                 2|                 1|           01/01/2015|\n",
            "| 201504WD15002|                 3|                 2|           01/01/2015|\n",
            "| 2015030000005|                 1|                 2|           01/01/2015|\n",
            "| 201501HT20122|                 1|                 1|           01/01/2015|\n",
            "| 2015051500005|                 1|                 1|           01/01/2015|\n",
            "+--------------+------------------+------------------+---------------------+\n",
            "only showing top 20 rows\n",
            "\n"
          ]
        }
      ]
    },
    {
      "cell_type": "code",
      "source": [],
      "metadata": {
        "id": "OA0zVAX7NI94"
      },
      "execution_count": null,
      "outputs": []
    }
  ]
}