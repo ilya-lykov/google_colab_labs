{
  "nbformat": 4,
  "nbformat_minor": 0,
  "metadata": {
    "colab": {
      "provenance": [],
      "mount_file_id": "1sv0L4urIeidEnqyEuM8kH2xNA2jnxvXR",
      "authorship_tag": "ABX9TyMFG9ix1JPpY7wl2h95kMHV",
      "include_colab_link": true
    },
    "kernelspec": {
      "name": "python3",
      "display_name": "Python 3"
    },
    "language_info": {
      "name": "python"
    }
  },
  "cells": [
    {
      "cell_type": "markdown",
      "metadata": {
        "id": "view-in-github",
        "colab_type": "text"
      },
      "source": [
        "<a href=\"https://colab.research.google.com/github/ilya-lykov/google_colab_labs/blob/main/3_lab/Laba_3.ipynb\" target=\"_parent\"><img src=\"https://colab.research.google.com/assets/colab-badge.svg\" alt=\"Open In Colab\"/></a>"
      ]
    },
    {
      "cell_type": "code",
      "execution_count": 1,
      "metadata": {
        "colab": {
          "base_uri": "https://localhost:8080/"
        },
        "id": "zz04oGSd8ihH",
        "outputId": "50afac99-e7a4-44c4-a847-b4f9fddcdccf"
      },
      "outputs": [
        {
          "output_type": "stream",
          "name": "stdout",
          "text": [
            "Requirement already satisfied: pyspark in /usr/local/lib/python3.10/dist-packages (3.5.3)\n",
            "Requirement already satisfied: py4j==0.10.9.7 in /usr/local/lib/python3.10/dist-packages (from pyspark) (0.10.9.7)\n"
          ]
        }
      ],
      "source": [
        "!pip install pyspark"
      ]
    },
    {
      "cell_type": "code",
      "source": [
        "from pyspark.sql import SparkSession\n",
        "from pyspark.sql.types import StructType, StructField, IntegerType, StringType\n",
        "import pyspark.sql.functions as F\n",
        "from pyspark.sql import Window as W\n",
        "from pyspark.ml.feature import OneHotEncoder, VectorAssembler, MinMaxScaler\n",
        "from pyspark.ml.regression import LinearRegression\n",
        "from pyspark.ml.evaluation import RegressionEvaluator\n",
        "\n",
        "import matplotlib.pyplot as plt"
      ],
      "metadata": {
        "id": "_Xyiiyo08ls2"
      },
      "execution_count": 30,
      "outputs": []
    },
    {
      "cell_type": "code",
      "source": [
        "spark = (SparkSession\n",
        "    .builder\n",
        "    .appName(\"Test\")\n",
        "    .getOrCreate()\n",
        ")"
      ],
      "metadata": {
        "id": "cmHfwXBFAGG2"
      },
      "execution_count": 4,
      "outputs": []
    },
    {
      "cell_type": "code",
      "source": [
        "acc = spark.read.csv(\"/content/drive/MyDrive/University/data/2014/DfTRoadSafety_Accidents_2014.csv\", header=True, inferSchema=True)\n",
        "veh = spark.read.csv(\"/content/drive/MyDrive/University/data/2014/DfTRoadSafety_Vehicles_2014.csv\", header=True, inferSchema=True)"
      ],
      "metadata": {
        "id": "o5UMwa3LAGq2"
      },
      "execution_count": 6,
      "outputs": []
    },
    {
      "cell_type": "code",
      "source": [
        "accidents = acc.join(veh, [\"Accident_Index\"], \"inner\")"
      ],
      "metadata": {
        "id": "wXdr3_JEAOYa"
      },
      "execution_count": 34,
      "outputs": []
    },
    {
      "cell_type": "code",
      "source": [
        "accidents = (accidents.select(\n",
        "    \"Weather_Conditions\",\n",
        "    \"Engine_Capacity_(CC)\",\n",
        "    \"Age_of_Vehicle\",\n",
        "    \"Sex_of_Driver\",\n",
        "    \"Age_of_Driver\",\n",
        "    \"Age_Band_of_Driver\",\n",
        "    \"Speed_limit\")\n",
        "    .filter((F.col(\"Engine_Capacity_(CC)\")>0) &\n",
        "           ((F.col(\"Age_of_Vehicle\")>0)) &\n",
        "           ((F.col(\"Age_of_Driver\")>0)) &\n",
        "           ((F.col(\"Age_Band_of_Driver\")>0)) &\n",
        "           ((F.col(\"Speed_limit\")>0)))\n",
        "    )\n",
        "accidents.show()"
      ],
      "metadata": {
        "colab": {
          "base_uri": "https://localhost:8080/"
        },
        "id": "SpUcpD0uAeaj",
        "outputId": "33d56d96-7606-4ef5-de1d-0dffb0898317"
      },
      "execution_count": 39,
      "outputs": [
        {
          "output_type": "stream",
          "name": "stdout",
          "text": [
            "+------------------+--------------------+--------------+-------------+-------------+------------------+-----------+\n",
            "|Weather_Conditions|Engine_Capacity_(CC)|Age_of_Vehicle|Sex_of_Driver|Age_of_Driver|Age_Band_of_Driver|Speed_limit|\n",
            "+------------------+--------------------+--------------+-------------+-------------+------------------+-----------+\n",
            "|                 2|                1997|             2|            1|           49|                 8|         30|\n",
            "|                 1|                1598|             4|            1|           49|                 8|         30|\n",
            "|                 1|                 999|             2|            1|           27|                 6|         30|\n",
            "|                 1|                1596|             9|            1|           32|                 6|         30|\n",
            "|                 1|                 124|             3|            1|           42|                 7|         30|\n",
            "|                 1|                2776|             9|            1|           53|                 8|         30|\n",
            "|                 1|                 124|            13|            1|           41|                 7|         30|\n",
            "|                 1|                1995|             3|            1|           38|                 7|         30|\n",
            "|                 1|                 125|             3|            1|           30|                 6|         30|\n",
            "|                 1|                1598|             9|            2|           70|                10|         30|\n",
            "|                 2|                2198|             4|            1|           48|                 8|         30|\n",
            "|                 1|                 124|            15|            2|           45|                 7|         30|\n",
            "|                 2|                1968|             1|            1|           42|                 7|         30|\n",
            "|                 5|                1998|             6|            1|           54|                 8|         30|\n",
            "|                 9|                 125|             4|            1|           42|                 7|         30|\n",
            "|                 2|                2143|             3|            1|           45|                 7|         30|\n",
            "|                 1|                2979|            10|            1|           48|                 8|         30|\n",
            "|                 1|                1198|             1|            1|           47|                 8|         30|\n",
            "|                 1|                3498|             2|            1|           52|                 8|         30|\n",
            "|                 2|                2148|             9|            1|           44|                 7|         30|\n",
            "+------------------+--------------------+--------------+-------------+-------------+------------------+-----------+\n",
            "only showing top 20 rows\n",
            "\n"
          ]
        }
      ]
    },
    {
      "cell_type": "code",
      "source": [
        "encoder = OneHotEncoder(\n",
        "    inputCols=[\"Weather_Conditions\", \"Sex_of_Driver\", \"Age_Band_of_Driver\"],\n",
        "    outputCols=[\"Weather_Conditions_vec\", \"Sex_of_Driver_vec\", \"Age_Band_of_Driver_vec\"]\n",
        ")"
      ],
      "metadata": {
        "id": "60wU6mj-ELub"
      },
      "execution_count": 40,
      "outputs": []
    },
    {
      "cell_type": "code",
      "source": [
        "accidents_encoded = encoder.fit(accidents).transform(accidents)\n",
        "accidents_encoded.select(\"Weather_Conditions_vec\", \"Sex_of_Driver_vec\", \"Age_Band_of_Driver_vec\").show(truncate=False)"
      ],
      "metadata": {
        "colab": {
          "base_uri": "https://localhost:8080/"
        },
        "id": "P6ILCNTOGg4E",
        "outputId": "879895d6-1d03-421b-db5f-5f520acb138f"
      },
      "execution_count": 42,
      "outputs": [
        {
          "output_type": "stream",
          "name": "stdout",
          "text": [
            "+----------------------+-----------------+----------------------+\n",
            "|Weather_Conditions_vec|Sex_of_Driver_vec|Age_Band_of_Driver_vec|\n",
            "+----------------------+-----------------+----------------------+\n",
            "|(9,[2],[1.0])         |(3,[1],[1.0])    |(11,[8],[1.0])        |\n",
            "|(9,[1],[1.0])         |(3,[1],[1.0])    |(11,[8],[1.0])        |\n",
            "|(9,[1],[1.0])         |(3,[1],[1.0])    |(11,[6],[1.0])        |\n",
            "|(9,[1],[1.0])         |(3,[1],[1.0])    |(11,[6],[1.0])        |\n",
            "|(9,[1],[1.0])         |(3,[1],[1.0])    |(11,[7],[1.0])        |\n",
            "|(9,[1],[1.0])         |(3,[1],[1.0])    |(11,[8],[1.0])        |\n",
            "|(9,[1],[1.0])         |(3,[1],[1.0])    |(11,[7],[1.0])        |\n",
            "|(9,[1],[1.0])         |(3,[1],[1.0])    |(11,[7],[1.0])        |\n",
            "|(9,[1],[1.0])         |(3,[1],[1.0])    |(11,[6],[1.0])        |\n",
            "|(9,[1],[1.0])         |(3,[2],[1.0])    |(11,[10],[1.0])       |\n",
            "|(9,[2],[1.0])         |(3,[1],[1.0])    |(11,[8],[1.0])        |\n",
            "|(9,[1],[1.0])         |(3,[2],[1.0])    |(11,[7],[1.0])        |\n",
            "|(9,[2],[1.0])         |(3,[1],[1.0])    |(11,[7],[1.0])        |\n",
            "|(9,[5],[1.0])         |(3,[1],[1.0])    |(11,[8],[1.0])        |\n",
            "|(9,[],[])             |(3,[1],[1.0])    |(11,[7],[1.0])        |\n",
            "|(9,[2],[1.0])         |(3,[1],[1.0])    |(11,[7],[1.0])        |\n",
            "|(9,[1],[1.0])         |(3,[1],[1.0])    |(11,[8],[1.0])        |\n",
            "|(9,[1],[1.0])         |(3,[1],[1.0])    |(11,[8],[1.0])        |\n",
            "|(9,[1],[1.0])         |(3,[1],[1.0])    |(11,[8],[1.0])        |\n",
            "|(9,[2],[1.0])         |(3,[1],[1.0])    |(11,[7],[1.0])        |\n",
            "+----------------------+-----------------+----------------------+\n",
            "only showing top 20 rows\n",
            "\n"
          ]
        }
      ]
    },
    {
      "cell_type": "code",
      "source": [
        "assembler = VectorAssembler(\n",
        "    inputCols=[\"Weather_Conditions_vec\", \"Sex_of_Driver_vec\", \"Age_Band_of_Driver_vec\", \"Engine_Capacity_(CC)\", \"Age_of_Vehicle\"],\n",
        "    outputCol=\"features\"\n",
        ")\n",
        "\n",
        "assembled_data = assembler.transform(accidents_encoded)\n",
        "\n",
        "assembled_data.select(\"features\").show(truncate=False)"
      ],
      "metadata": {
        "colab": {
          "base_uri": "https://localhost:8080/"
        },
        "id": "lOrJMpOBHIZb",
        "outputId": "5e9a416b-30fb-441a-b8b7-f2d148d2c8bb"
      },
      "execution_count": 19,
      "outputs": [
        {
          "output_type": "stream",
          "name": "stdout",
          "text": [
            "+----------------------------------------------+\n",
            "|features                                      |\n",
            "+----------------------------------------------+\n",
            "|(25,[2,10,20,23,24],[1.0,1.0,1.0,1997.0,2.0]) |\n",
            "|(25,[1,10,20,23,24],[1.0,1.0,1.0,1598.0,4.0]) |\n",
            "|(25,[1,10,18,23,24],[1.0,1.0,1.0,999.0,2.0])  |\n",
            "|(25,[1,10,18,23,24],[1.0,1.0,1.0,1596.0,9.0]) |\n",
            "|(25,[1,10,19,23,24],[1.0,1.0,1.0,124.0,3.0])  |\n",
            "|(25,[1,10,20,23,24],[1.0,1.0,1.0,2776.0,9.0]) |\n",
            "|(25,[1,10,19,23,24],[1.0,1.0,1.0,124.0,13.0]) |\n",
            "|(25,[1,10,19,23,24],[1.0,1.0,1.0,1995.0,3.0]) |\n",
            "|(25,[1,10,18,23,24],[1.0,1.0,1.0,125.0,3.0])  |\n",
            "|(25,[1,11,22,23,24],[1.0,1.0,1.0,1598.0,9.0]) |\n",
            "|(25,[2,10,20,23,24],[1.0,1.0,1.0,2198.0,4.0]) |\n",
            "|(25,[1,11,19,23,24],[1.0,1.0,1.0,124.0,15.0]) |\n",
            "|(25,[2,10,19,23,24],[1.0,1.0,1.0,1968.0,1.0]) |\n",
            "|(25,[5,10,20,23,24],[1.0,1.0,1.0,1998.0,6.0]) |\n",
            "|(25,[10,19,23,24],[1.0,1.0,125.0,4.0])        |\n",
            "|(25,[2,10,19,23,24],[1.0,1.0,1.0,2143.0,3.0]) |\n",
            "|(25,[1,10,20,23,24],[1.0,1.0,1.0,2979.0,10.0])|\n",
            "|(25,[1,10,20,23,24],[1.0,1.0,1.0,1198.0,1.0]) |\n",
            "|(25,[1,10,20,23,24],[1.0,1.0,1.0,3498.0,2.0]) |\n",
            "|(25,[2,10,19,23,24],[1.0,1.0,1.0,2148.0,9.0]) |\n",
            "+----------------------------------------------+\n",
            "only showing top 20 rows\n",
            "\n"
          ]
        }
      ]
    },
    {
      "cell_type": "code",
      "source": [
        "lr = LinearRegression(featuresCol=\"features\", labelCol=\"Engine_Capacity_(CC)\")\n",
        "\n",
        "lr_model = lr.fit(assembled_data)\n",
        "\n",
        "predictions = lr_model.transform(assembled_data)\n",
        "\n",
        "predictions.select(\"features\", \"prediction\").show(truncate=False)"
      ],
      "metadata": {
        "colab": {
          "base_uri": "https://localhost:8080/"
        },
        "id": "268t_aAbHnbD",
        "outputId": "83ef8012-b7f8-4f6a-8081-14b6e34f54fd"
      },
      "execution_count": 27,
      "outputs": [
        {
          "output_type": "stream",
          "name": "stdout",
          "text": [
            "+----------------------------------------------+------------------+\n",
            "|features                                      |prediction        |\n",
            "+----------------------------------------------+------------------+\n",
            "|(25,[2,10,20,23,24],[1.0,1.0,1.0,1997.0,2.0]) |1996.999996548706 |\n",
            "|(25,[1,10,20,23,24],[1.0,1.0,1.0,1598.0,4.0]) |1597.9999875851536|\n",
            "|(25,[1,10,18,23,24],[1.0,1.0,1.0,999.0,2.0])  |998.9999984779228 |\n",
            "|(25,[1,10,18,23,24],[1.0,1.0,1.0,1596.0,9.0]) |1596.000005199235 |\n",
            "|(25,[1,10,19,23,24],[1.0,1.0,1.0,124.0,3.0])  |123.99997397948245|\n",
            "|(25,[1,10,20,23,24],[1.0,1.0,1.0,2776.0,9.0]) |2775.9999960981827|\n",
            "|(25,[1,10,19,23,24],[1.0,1.0,1.0,124.0,13.0]) |123.99997936900402|\n",
            "|(25,[1,10,19,23,24],[1.0,1.0,1.0,1995.0,3.0]) |1994.9999832205524|\n",
            "|(25,[1,10,18,23,24],[1.0,1.0,1.0,125.0,3.0])  |124.99999470009512|\n",
            "|(25,[1,11,22,23,24],[1.0,1.0,1.0,1598.0,9.0]) |1598.000002713162 |\n",
            "|(25,[2,10,20,23,24],[1.0,1.0,1.0,2198.0,4.0]) |2197.999998619371 |\n",
            "|(25,[1,11,19,23,24],[1.0,1.0,1.0,124.0,15.0]) |123.99998741357246|\n",
            "|(25,[2,10,19,23,24],[1.0,1.0,1.0,1968.0,1.0]) |1967.9999900800453|\n",
            "|(25,[5,10,20,23,24],[1.0,1.0,1.0,1998.0,6.0]) |1997.999997178543 |\n",
            "|(25,[10,19,23,24],[1.0,1.0,125.0,4.0])        |124.99999133771674|\n",
            "|(25,[2,10,19,23,24],[1.0,1.0,1.0,2143.0,3.0]) |2142.999992022293 |\n",
            "|(25,[1,10,20,23,24],[1.0,1.0,1.0,2979.0,10.0])|2978.9999976397735|\n",
            "|(25,[1,10,20,23,24],[1.0,1.0,1.0,1198.0,1.0]) |1197.9999839926543|\n",
            "|(25,[1,10,20,23,24],[1.0,1.0,1.0,3498.0,2.0]) |3497.999995891553 |\n",
            "|(25,[2,10,19,23,24],[1.0,1.0,1.0,2148.0,9.0]) |2147.9999952807016|\n",
            "+----------------------------------------------+------------------+\n",
            "only showing top 20 rows\n",
            "\n"
          ]
        }
      ]
    },
    {
      "cell_type": "code",
      "source": [
        "print(lr_model)\n",
        "evaluator = RegressionEvaluator(labelCol=\"Engine_Capacity_(CC)\", predictionCol=\"prediction\", metricName=\"r2\")\n",
        "r2 = evaluator.evaluate(predictions)\n",
        "\n",
        "print(f\"R2: {r2}\")"
      ],
      "metadata": {
        "colab": {
          "base_uri": "https://localhost:8080/"
        },
        "id": "Dr27lIZwJilM",
        "outputId": "5859c142-800b-4721-94cd-06d24d8831bf"
      },
      "execution_count": 33,
      "outputs": [
        {
          "output_type": "stream",
          "name": "stdout",
          "text": [
            "LinearRegressionModel: uid=LinearRegression_a4511da0d2c0, numFeatures=25\n",
            "R2: 1.0\n"
          ]
        }
      ]
    }
  ]
}