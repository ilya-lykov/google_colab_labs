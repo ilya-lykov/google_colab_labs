{
  "nbformat": 4,
  "nbformat_minor": 0,
  "metadata": {
    "colab": {
      "provenance": [],
      "mount_file_id": "1sv0L4urIeidEnqyEuM8kH2xNA2jnxvXR",
      "authorship_tag": "ABX9TyP5ECSWjzl8XA0se8xLd480",
      "include_colab_link": true
    },
    "kernelspec": {
      "name": "python3",
      "display_name": "Python 3"
    },
    "language_info": {
      "name": "python"
    }
  },
  "cells": [
    {
      "cell_type": "markdown",
      "metadata": {
        "id": "view-in-github",
        "colab_type": "text"
      },
      "source": [
        "<a href=\"https://colab.research.google.com/github/ilya-lykov/google_colab_labs/blob/main/3_lab/Laba_3.ipynb\" target=\"_parent\"><img src=\"https://colab.research.google.com/assets/colab-badge.svg\" alt=\"Open In Colab\"/></a>"
      ]
    },
    {
      "cell_type": "code",
      "execution_count": null,
      "metadata": {
        "colab": {
          "base_uri": "https://localhost:8080/"
        },
        "id": "zz04oGSd8ihH",
        "outputId": "cb1a2cea-83a4-48e3-d994-11d6827d90bd"
      },
      "outputs": [
        {
          "output_type": "stream",
          "name": "stdout",
          "text": [
            "Requirement already satisfied: pyspark in /usr/local/lib/python3.10/dist-packages (3.5.3)\n",
            "Requirement already satisfied: py4j==0.10.9.7 in /usr/local/lib/python3.10/dist-packages (from pyspark) (0.10.9.7)\n"
          ]
        }
      ],
      "source": [
        "!pip install pyspark"
      ]
    },
    {
      "cell_type": "code",
      "source": [
        "from pyspark.sql import SparkSession\n",
        "from pyspark.sql.types import StructType, StructField, IntegerType, StringType\n",
        "import pyspark.sql.functions as F\n",
        "from pyspark.sql import Window as W\n",
        "from pyspark.ml.feature import OneHotEncoder, VectorAssembler, MinMaxScaler\n",
        "from pyspark.ml.regression import LinearRegression\n",
        "from pyspark.ml.evaluation import RegressionEvaluator\n",
        "from functools import reduce\n",
        "from pyspark.ml import Pipeline\n",
        "\n",
        "import matplotlib.pyplot as plt"
      ],
      "metadata": {
        "id": "_Xyiiyo08ls2"
      },
      "execution_count": 1,
      "outputs": []
    },
    {
      "cell_type": "code",
      "source": [
        "spark = (SparkSession\n",
        "    .builder\n",
        "    .appName(\"Test\")\n",
        "    .getOrCreate()\n",
        ")"
      ],
      "metadata": {
        "id": "cmHfwXBFAGG2"
      },
      "execution_count": 2,
      "outputs": []
    },
    {
      "cell_type": "code",
      "source": [
        "acc = spark.read.csv(\"/content/drive/MyDrive/University/data/2014/DfTRoadSafety_Accidents_2014.csv\", header=True, inferSchema=True)\n",
        "veh = spark.read.csv(\"/content/drive/MyDrive/University/data/2014/DfTRoadSafety_Vehicles_2014.csv\", header=True, inferSchema=True)"
      ],
      "metadata": {
        "id": "o5UMwa3LAGq2"
      },
      "execution_count": 3,
      "outputs": []
    },
    {
      "cell_type": "code",
      "source": [
        "df = acc.join(veh, [\"Accident_Index\"], \"inner\")"
      ],
      "metadata": {
        "id": "wXdr3_JEAOYa"
      },
      "execution_count": 17,
      "outputs": []
    },
    {
      "cell_type": "code",
      "source": [
        "columns = [\n",
        "    \"Age_of_Vehicle\",\n",
        "    \"Speed_limit\",\n",
        "    \"Engine_Capacity_(CC)\",\n",
        "    \"Number_of_Vehicles\",\n",
        "    \"Number_of_Casualties\",\n",
        "    \"Weather_Conditions\",\n",
        "    \"Light_Conditions\",\n",
        "    \"Road_Surface_Conditions\",\n",
        "    \"Vehicle_Type\",\n",
        "    \"Vehicle_Manoeuvre\",\n",
        "    \"1st_Point_of_Impact\",\n",
        "    \"Sex_of_Driver\",\n",
        "    \"Accident_Severity\",\n",
        "    \"Age_of_Driver\",\n",
        "    \"Age_Band_of_Driver\",\n",
        "    \"Urban_or_Rural_Area\",\n",
        "    \"Vehicle_Reference\",\n",
        "    \"Skidding_and_Overturning\",\n",
        "    \"Pedestrian_Crossing-Human_Control\",\n",
        "    \"Pedestrian_Crossing-Physical_Facilities\",\n",
        "    \"2nd_Road_Class\",\n",
        "    \"1st_Road_Class\",\n",
        "    \"Road_Type\"\n",
        "    ]\n",
        "\n",
        "\n",
        "\n",
        "filter_condition = reduce(\n",
        "    lambda acc, column: acc & ((F.col(column) > 0) & F.col(column).isNotNull()),\n",
        "    columns[1:],\n",
        "    (F.col(columns[0]) > 0) & F.col(columns[0]).isNotNull()\n",
        ")\n",
        "\n",
        "accidents = df.select(columns).filter(filter_condition)"
      ],
      "metadata": {
        "id": "SpUcpD0uAeaj"
      },
      "execution_count": 13,
      "outputs": []
    },
    {
      "cell_type": "code",
      "source": [
        "categorical_columns = [\n",
        "    \"Weather_Conditions\",\n",
        "    \"Light_Conditions\",\n",
        "    \"Road_Surface_Conditions\",\n",
        "    \"Vehicle_Type\",\n",
        "    \"Vehicle_Manoeuvre\",\n",
        "    \"1st_Point_of_Impact\",\n",
        "    \"Sex_of_Driver\",\n",
        "    \"Speed_limit\",\n",
        "    \"Urban_or_Rural_Area\",\n",
        "    \"Engine_Capacity_(CC)\",\n",
        "    \"Vehicle_Reference\",\n",
        "    \"Pedestrian_Crossing-Human_Control\",\n",
        "    \"Pedestrian_Crossing-Physical_Facilities\",\n",
        "    \"2nd_Road_Class\",\n",
        "    \"1st_Road_Class\",\n",
        "    \"Road_Type\"\n",
        "    ]\n",
        "\n",
        "numercical_columns = [\n",
        "    \"Age_of_Vehicle\",\n",
        "    \"Age_Band_of_Driver\",\n",
        "    \"Age_of_Driver\",\n",
        "]\n",
        "\n",
        "encoders = [\n",
        "    OneHotEncoder(inputCol=col, outputCol=f\"{col}_OneHot\")\n",
        "    for col in categorical_columns\n",
        "]\n",
        "\n",
        "pipeline = Pipeline(stages = encoders)\n",
        "accidents_encoded = pipeline.fit(accidents).transform(accidents)"
      ],
      "metadata": {
        "id": "60wU6mj-ELub"
      },
      "execution_count": 14,
      "outputs": []
    },
    {
      "cell_type": "code",
      "source": [
        "feature_columns = [f\"{col}_OneHot\" for col in categorical_columns] + numercical_columns\n",
        "\n",
        "accidents_accembler = VectorAssembler(inputCols=feature_columns, outputCol=\"features\").transform(accidents_encoded)"
      ],
      "metadata": {
        "id": "P6ILCNTOGg4E"
      },
      "execution_count": 15,
      "outputs": []
    },
    {
      "cell_type": "code",
      "source": [
        "labels=[\n",
        "    \"Number_of_Vehicles\",\n",
        "    \"Number_of_Casualties\",\n",
        "    \"Accident_Severity\",\n",
        "    \"Skidding_and_Overturning\"\n",
        "]\n",
        "\n",
        "def getLr(feature,label):\n",
        "  lr = (LinearRegression(featuresCol=feature, labelCol=label)\n",
        "  .fit(accidents_accembler))\n",
        "  print(lr)\n",
        "  print(f\"lr.intercept: {lr.intercept}\")\n",
        "  lr=lr.transform(accidents_accembler)\n",
        "  evaluator = RegressionEvaluator(labelCol=label, predictionCol=\"prediction\", metricName=\"r2\")\n",
        "  r2 = evaluator.evaluate(lr)\n",
        "  print(f\"for column: {label}  R2: {r2}\")\n",
        "  lr.select(label, \"prediction\").show(truncate=False)\n",
        "\n",
        "\n",
        "for label in labels:\n",
        "  getLr(\"features\", label)"
      ],
      "metadata": {
        "colab": {
          "base_uri": "https://localhost:8080/"
        },
        "id": "lOrJMpOBHIZb",
        "outputId": "2fc67404-a0ed-41bc-bb96-1befb662a8af"
      },
      "execution_count": 18,
      "outputs": [
        {
          "output_type": "stream",
          "name": "stdout",
          "text": [
            "LinearRegressionModel: uid=LinearRegression_baf931938759, numFeatures=2644\n",
            "lr.intercept: 3.392893397514974\n",
            "for column: Number_of_Vehicles  R2: 0.9999999999999921\n",
            "+------------------+------------------+\n",
            "|Number_of_Vehicles|prediction        |\n",
            "+------------------+------------------+\n",
            "|2                 |1.9999999302221099|\n",
            "|1                 |1.000000122305173 |\n",
            "|2                 |2.000000006245931 |\n",
            "|2                 |1.9999998578108933|\n",
            "|2                 |1.9999999127082577|\n",
            "|2                 |2.000000026413287 |\n",
            "|2                 |2.0000000153208926|\n",
            "|2                 |1.9999999413709122|\n",
            "|1                 |1.0000000149403387|\n",
            "|2                 |2.0000000712078507|\n",
            "|2                 |1.9999999414845218|\n",
            "|5                 |4.999999963695359 |\n",
            "|2                 |1.9999999644450013|\n",
            "|2                 |1.9999999163455437|\n",
            "|2                 |1.9999999351484978|\n",
            "|2                 |2.000000101418289 |\n",
            "|2                 |1.9999999906905552|\n",
            "|2                 |2.000000008086849 |\n",
            "|2                 |1.9999999882587562|\n",
            "|1                 |1.0000000938213671|\n",
            "+------------------+------------------+\n",
            "only showing top 20 rows\n",
            "\n",
            "LinearRegressionModel: uid=LinearRegression_55c1cca79b4d, numFeatures=2644\n",
            "lr.intercept: 3.256699216664582\n",
            "for column: Number_of_Casualties  R2: 0.9999999999999825\n",
            "+--------------------+------------------+\n",
            "|Number_of_Casualties|prediction        |\n",
            "+--------------------+------------------+\n",
            "|1                   |0.9999998931556493|\n",
            "|1                   |0.999999805883454 |\n",
            "|2                   |1.9999998738576035|\n",
            "|2                   |1.9999999603035825|\n",
            "|1                   |0.9999999294178741|\n",
            "|1                   |0.9999999503493533|\n",
            "|1                   |0.9999999749514208|\n",
            "|1                   |1.000000119162126 |\n",
            "|2                   |1.9999998471303142|\n",
            "|1                   |1.000000110127909 |\n",
            "|1                   |1.0000001258240494|\n",
            "|5                   |4.999999933934472 |\n",
            "|1                   |1.0000002134853383|\n",
            "|1                   |1.0000001607926072|\n",
            "|2                   |2.0000000010619416|\n",
            "|2                   |2.0000001333677577|\n",
            "|1                   |1.0000001396073217|\n",
            "|1                   |1.0000000577076427|\n",
            "|1                   |0.9999998997398483|\n",
            "|1                   |1.0000000130271038|\n",
            "+--------------------+------------------+\n",
            "only showing top 20 rows\n",
            "\n",
            "LinearRegressionModel: uid=LinearRegression_440218b77c90, numFeatures=2644\n",
            "lr.intercept: 2.912116309571504\n",
            "for column: Accident_Severity  R2: 0.9999999999999906\n",
            "+-----------------+------------------+\n",
            "|Accident_Severity|prediction        |\n",
            "+-----------------+------------------+\n",
            "|2                |1.9999999962270512|\n",
            "|3                |3.000000010926844 |\n",
            "|3                |3.000000019035308 |\n",
            "|3                |2.999999991468377 |\n",
            "|3                |2.999999992562628 |\n",
            "|3                |2.999999999967046 |\n",
            "|3                |3.0000000143997   |\n",
            "|3                |2.9999999900412444|\n",
            "|3                |2.9999999902342416|\n",
            "|3                |3.0000000308222194|\n",
            "|3                |3.0000000064542247|\n",
            "|3                |3.000000004428329 |\n",
            "|3                |2.9999999981299568|\n",
            "|3                |3.0000000036156034|\n",
            "|3                |2.9999999437094016|\n",
            "|3                |3.000000024039922 |\n",
            "|3                |3.0000000023703954|\n",
            "|3                |2.999999987068967 |\n",
            "|3                |2.999999981430951 |\n",
            "|3                |2.9999999922803813|\n",
            "+-----------------+------------------+\n",
            "only showing top 20 rows\n",
            "\n",
            "LinearRegressionModel: uid=LinearRegression_a6a00ba3dcfe, numFeatures=2644\n",
            "lr.intercept: 1.796495482074471\n",
            "for column: Skidding_and_Overturning  R2: 0.9999999999999734\n",
            "+------------------------+------------------+\n",
            "|Skidding_and_Overturning|prediction        |\n",
            "+------------------------+------------------+\n",
            "|5                       |5.000000046812096 |\n",
            "|1                       |1.0000002080445414|\n",
            "|1                       |0.9999998838135333|\n",
            "|1                       |1.0000001021400584|\n",
            "|1                       |0.9999998831874051|\n",
            "|5                       |4.9999998243969745|\n",
            "|1                       |0.999999994517947 |\n",
            "|1                       |0.9999999952615107|\n",
            "|1                       |1.0000001418795041|\n",
            "|1                       |0.9999997629447271|\n",
            "|1                       |0.9999999137972007|\n",
            "|1                       |0.9999995391951693|\n",
            "|1                       |1.0000000562970865|\n",
            "|1                       |0.9999999958196082|\n",
            "|1                       |0.9999997711818192|\n",
            "|1                       |0.9999999968300963|\n",
            "|1                       |0.9999998724315985|\n",
            "|1                       |1.0000002284463743|\n",
            "|1                       |1.0000003684270986|\n",
            "|1                       |1.0000005945145687|\n",
            "+------------------------+------------------+\n",
            "only showing top 20 rows\n",
            "\n"
          ]
        }
      ]
    },
    {
      "cell_type": "code",
      "source": [],
      "metadata": {
        "id": "H4HQwy3l-Iaa"
      },
      "execution_count": null,
      "outputs": []
    }
  ]
}